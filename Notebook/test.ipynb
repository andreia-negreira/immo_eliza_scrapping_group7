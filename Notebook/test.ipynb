{
 "cells": [
  {
   "cell_type": "code",
   "execution_count": null,
   "metadata": {},
   "outputs": [],
   "source": [
    "import requests\n",
    "import pandas\n",
    "import json\n",
    "import regex as re\n",
    "from bs4 import BeautifulSoup\n",
    "s = requests.Session()\n",
    "list_all_dict= []\n",
    "\n",
    "url_all=[]\n",
    "pages_url=[]\n",
    "for i in [\"house\", \"apartment\"]:\n",
    "\n",
    "     for j in range(1,200):\n",
    "        search_url = f\"https://www.immoweb.be/en/search/{i}/for-sale?countries=BE&isNewlyBuilt=false&isAPublicSale=false&page={j}&orderBy=relevance\"\n",
    "        pages_url.append(search_url)\n",
    "        for page_url in pages_url:\n",
    "           r= requests.get(page_url)\n",
    "           soup = BeautifulSoup(r.text, \"html.parser\")\n",
    "           for url in soup.find_all(\"a\", attrs={\"class\": \"card__title-link\"}):\n",
    "               url_All=[]\n",
    "               url_All.append(url.get('href'))\n",
    "               url_all=url_all+url_All[0:30]\n",
    "\n",
    "url_all\n",
    "len(url_all)"
   ]
  }
 ],
 "metadata": {
  "language_info": {
   "name": "python"
  },
  "orig_nbformat": 4
 },
 "nbformat": 4,
 "nbformat_minor": 2
}
